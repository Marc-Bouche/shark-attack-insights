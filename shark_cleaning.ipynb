{
 "cells": [
  {
   "cell_type": "code",
   "execution_count": 41,
   "id": "73c1e34d-54ec-4df4-a93f-3bda7aff4c20",
   "metadata": {},
   "outputs": [
    {
     "name": "stdout",
     "output_type": "stream",
     "text": [
      "Requirement already satisfied: xlrd in /opt/anaconda3/lib/python3.12/site-packages (2.0.1)\n"
     ]
    },
    {
     "data": {
      "text/plain": [
       "0        AUSTRALIA\n",
       "1              USA\n",
       "2              USA\n",
       "3        AUSTRALIA\n",
       "4            INDIA\n",
       "5         TRINIDAD\n",
       "6        AUSTRALIA\n",
       "7          BAHAMAS\n",
       "8        AUSTRALIA\n",
       "9     SOUTH AFRICA\n",
       "10             USA\n",
       "11          MEXICO\n",
       "12       AUSTRALIA\n",
       "13       AUSTRALIA\n",
       "14       AUSTRALIA\n",
       "15     NEW ZEALAND\n",
       "16          MEXICO\n",
       "17          MEXICO\n",
       "18       AUSTRALIA\n",
       "19         BAHAMAS\n",
       "Name: Country, dtype: object"
      ]
     },
     "execution_count": 41,
     "metadata": {},
     "output_type": "execute_result"
    }
   ],
   "source": [
    "import pandas as pd\n",
    "!pip install xlrd\n",
    "shark_data = pd.read_excel('https://www.sharkattackfile.net/spreadsheets/GSAF5.xls')\n",
    "shark_data.head(50)\n",
    "shark_data['Country'].head(20)"
   ]
  },
  {
   "cell_type": "code",
   "execution_count": 39,
   "id": "ee7120c9-68f4-4b20-b0f2-49924d037d94",
   "metadata": {},
   "outputs": [],
   "source": [
    "pd.set_option('display.max_rows', None)"
   ]
  },
  {
   "cell_type": "code",
   "execution_count": 37,
   "id": "ca82301f-5d10-4ac0-9f78-95b17b222146",
   "metadata": {},
   "outputs": [
    {
     "data": {
      "text/plain": [
       "159"
      ]
     },
     "execution_count": 37,
     "metadata": {},
     "output_type": "execute_result"
    }
   ],
   "source": [
    "shark_data['Country'].value_counts()\n",
    "shark_data['Country'].nunique()"
   ]
  },
  {
   "cell_type": "code",
   "execution_count": 35,
   "id": "17a22aaf-5a3e-41f4-ac48-f87252261672",
   "metadata": {},
   "outputs": [
    {
     "data": {
      "text/plain": [
       "array(['AUSTRALIA', 'USA', 'INDIA', 'TRINIDAD', 'BAHAMAS',\n",
       "       'UNSPECIFIED COUNTRY', 'MEXICO', 'NEW ZEALAND', 'EGYPT', 'BELIZE',\n",
       "       'PHILIPPINES', 'SPAIN', 'PORTUGAL', 'SAMOA', 'COLOMBIA', 'ECUADOR',\n",
       "       'FRENCH POLYNESIA', 'NEW CALEDONIA', 'TURKS AND CAICOS', 'CUBA',\n",
       "       'BRAZIL', 'SEYCHELLES', 'ARGENTINA', 'FIJI', 'MALDIVES',\n",
       "       'SOUTH AFRICA', 'ENGLAND', 'JAPAN', 'INDONESIA', 'JAMAICA',\n",
       "       'THAILAND', 'COLUMBIA', 'COSTA RICA', 'CANADA', 'JORDAN',\n",
       "       'ST KITTS AND NEVIS', 'ST MARTIN', 'PAPUA NEW GUINEA',\n",
       "       'REUNION ISLAND', 'ISRAEL', 'CHINA', 'IRELAND', 'ITALY',\n",
       "       'MALAYSIA', 'LIBYA', 'MAURITIUS', 'SOLOMON ISLANDS', 'COMOROS',\n",
       "       'REUNION', 'UNITED KINGDOM', 'UNITED ARAB EMIRATES', 'CAPE VERDE',\n",
       "       'DOMINICAN REPUBLIC', 'CAYMAN ISLANDS', 'ARUBA', 'MOZAMBIQUE',\n",
       "       'PUERTO RICO', 'GREECE', 'FRANCE', 'TRINIDAD & TOBAGO', 'KIRIBATI',\n",
       "       'TAIWAN', 'PALESTINIAN TERRITORIES', 'GUAM', 'NIGERIA', 'TONGA',\n",
       "       'SCOTLAND', 'CROATIA', 'SAUDI ARABIA', 'CHILE', 'ANTIGUA', 'KENYA',\n",
       "       'RUSSIA', 'TURKS & CAICOS', 'AZORES', 'SOUTH KOREA', 'MALTA',\n",
       "       'VIETNAM', 'MADAGASCAR', 'PANAMA', 'SOMALIA',\n",
       "       'BRITISH VIRGIN ISLANDS', 'NORWAY', 'SENEGAL', 'YEMEN',\n",
       "       'SIERRA LEONE', 'LIBERIA', 'VANUATU', 'HONDURAS', 'VENEZUELA',\n",
       "       'SRI LANKA', 'URUGUAY', 'MICRONESIA', 'OKINAWA', 'TANZANIA',\n",
       "       'MARSHALL ISLANDS', 'HONG KONG', 'EL SALVADOR', 'ANGOLA',\n",
       "       'BERMUDA', 'MONTENEGRO', 'IRAN', 'TUNISIA', 'NAMIBIA',\n",
       "       'BANGLADESH', 'PALAU', 'WESTERN SAMOA', 'GRENADA', 'IRAQ',\n",
       "       'TURKEY', 'SINGAPORE', 'NEW BRITAIN', 'SUDAN', 'NEW GUINEA',\n",
       "       'FEDERATED STATES OF MICRONESIA', 'ADMIRALTY ISLANDS',\n",
       "       'BRITISH WEST INDIES', 'NICARAGUA', 'AMERICAN SAMOA',\n",
       "       'ANDAMAN / NICOBAR ISLANDAS', 'GABON', 'MAYOTTE', 'MARTINIQUE',\n",
       "       'GUATEMALA', 'CENTRAL PACIFIC', 'SLOVENIA', 'CURACAO', 'ICELAND',\n",
       "       'BARBADOS', 'MONACO', 'GUYANA', 'HAITI', 'KUWAIT',\n",
       "       'FALKLAND ISLANDS', 'CRETE', 'CYPRUS', 'WEST INDIES', 'BURMA',\n",
       "       'LEBANON', 'PARAGUAY', 'BRITISH NEW GUINEA', 'CEYLON', 'GEORGIA',\n",
       "       'SYRIA', 'TUVALU', 'GUINEA', 'ANDAMAN ISLANDS', 'CAMEROON',\n",
       "       'COOK ISLANDS', 'TOBAGO', 'PERU', 'ALGERIA', 'GHANA', 'GREENLAND',\n",
       "       'SWEDEN', 'ROATAN', 'BETWEEN PORTUGAL & INDIA', 'DJIBOUTI',\n",
       "       'BAHREIN'], dtype=object)"
      ]
     },
     "execution_count": 35,
     "metadata": {},
     "output_type": "execute_result"
    }
   ],
   "source": [
    "shark_data['Country'].unique()"
   ]
  },
  {
   "cell_type": "code",
   "execution_count": 33,
   "id": "d5863ec7-7191-4b46-91a8-6bbabcb43301",
   "metadata": {},
   "outputs": [],
   "source": [
    "import pandas as pd\n",
    "\n",
    "# Function to clean the 'Country' column based on specified rules\n",
    "def clean_country(country):\n",
    "    # Handle NaN values\n",
    "    if pd.isna(country):\n",
    "        return 'UNSPECIFIED COUNTRY'\n",
    "    \n",
    "    # Remove question marks and strip whitespace\n",
    "    country = country.replace('?', '').strip()\n",
    "\n",
    "    # Handle cases where multiple countries are listed\n",
    "    country = country.replace('IRAN / IRAQ', 'IRAN') \\\n",
    "                     .replace('SOLOMON ISLANDS / VANUATU', 'SOLOMON ISLANDS') \\\n",
    "                     .replace('EQUATORIAL GUINEA / CAMEROON', 'CAMEROON') \\\n",
    "                     .replace('CEYLON (SRI LANKA)', 'SRI LANKA') \\\n",
    "                     .replace('EGYPT / ISRAEL', 'EGYPT') \\\n",
    "                     .replace('ITALY / CROATIA', 'ITALY') \\\n",
    "                     .replace('BETWEEN PORTUGAL & INDIA', 'UNSPECIFIED COUNTRY') \\\n",
    "                     .replace('DIEGO GARCIA', 'UNSPECIFIED COUNTRY')\n",
    "    \n",
    "    # Replace \"/\" with \"and\" in specific countries\n",
    "    country = country.replace('ANDAMAN / NICOBAR ISLANDS', 'ANDAMAN AND NICOBAR ISLANDS') \\\n",
    "                     .replace('ST KITTS / NEVIS', 'ST KITTS AND NEVIS')\n",
    "\n",
    "    # Mapping replacements for specific island entries\n",
    "    replacements = {\n",
    "        'UNITED ARAB EMIRATES (UAE)': 'UNITED ARAB EMIRATES',\n",
    "        'NEW GUINEA / PAPUA NEW GUINEA': 'PAPUA NEW GUINEA',\n",
    "        'SOLOMON ISLANDS / VANUATU': 'SOLOMON ISLANDS',\n",
    "        'MALDIVE ISLANDS': 'MALDIVES',\n",
    "        'ST. MAARTIN': 'ST. MARTIN',  # Correct spelling, merge duplicates\n",
    "        'KOREA': 'SOUTH KOREA'        # Replace KOREA with SOUTH KOREA, merge duplicates\n",
    "    }\n",
    "\n",
    "    # Apply replacements\n",
    "    for key, value in replacements.items():\n",
    "        if country == key:\n",
    "            country = value\n",
    "    \n",
    "    # Assign 'UNSPECIFIED COUNTRY' to values containing sea/ocean-related terms\n",
    "    sea_terms = ['sea', 'SEA', 'OCEAN', 'ocean', 'Ocean', 'Sea', 'BAY OF BENGAL', 'AFRICA']\n",
    "    for term in sea_terms:\n",
    "        if term in country:\n",
    "            return 'UNSPECIFIED COUNTRY'\n",
    "\n",
    "    # Remove invalid countries or regions\n",
    "    invalid_countries = ['Diego Garcia', 'GULF OF ADEN', 'THE BALKANS', 'BRITISH ISLES', 'PERSIAN GULF', 'JOHNSTON ISLAND', \n",
    "                         'JAVA', 'ROTAN', 'SAN DOMINGO', 'ST. MARTIN', 'NEVIS', 'GRAND CAYMAN', 'NETHERLANDS ANTILLES', \n",
    "                         'NORTHERN MARIANA ISLANDS', 'ASIA']\n",
    "    \n",
    "    if country in invalid_countries:\n",
    "        return 'UNSPECIFIED COUNTRY'\n",
    "\n",
    "    # Convert all to uppercase\n",
    "    country = country.upper()\n",
    "    \n",
    "    return country\n",
    "\n",
    "# Apply cleaning to the 'Country' column\n",
    "shark_data['Country'] = shark_data['Country'].apply(clean_country)\n",
    "\n",
    "# Drop duplicates\n",
    "shark_data = shark_data.drop_duplicates(subset=['Country'])\n",
    "\n"
   ]
  },
  {
   "cell_type": "code",
   "execution_count": null,
   "id": "3b44b412-21f9-4735-802b-6b938bb40509",
   "metadata": {},
   "outputs": [],
   "source": []
  }
 ],
 "metadata": {
  "kernelspec": {
   "display_name": "Python 3 (ipykernel)",
   "language": "python",
   "name": "python3"
  },
  "language_info": {
   "codemirror_mode": {
    "name": "ipython",
    "version": 3
   },
   "file_extension": ".py",
   "mimetype": "text/x-python",
   "name": "python",
   "nbconvert_exporter": "python",
   "pygments_lexer": "ipython3",
   "version": "3.12.4"
  }
 },
 "nbformat": 4,
 "nbformat_minor": 5
}
